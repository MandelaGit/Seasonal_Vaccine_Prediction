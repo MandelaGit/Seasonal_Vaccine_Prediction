{
 "cells": [
  {
   "cell_type": "code",
   "execution_count": null,
   "metadata": {},
   "outputs": [],
   "source": [
    "# Select the desired columns from the original DataFrame\n",
    "behavioral_df = df[['behavioral_antiviral_meds', 'behavioral_avoidance', 'behavioral_face_mask', 'behavioral_wash_hands', 'behavioral_large_gatherings', 'behavioral_outside_home', 'behavioral_touch_face']]\n",
    "\n",
    "# Create a crosstab table\n",
    "cross_tab = pd.crosstab(index=behavioral_df['behavioral_antiviral_meds'], \n",
    "                        columns=[behavioral_df['behavioral_avoidance'], behavioral_df['behavioral_face_mask'], \n",
    "                                 behavioral_df['behavioral_wash_hands'], behavioral_df['behavioral_large_gatherings'], \n",
    "                                 behavioral_df['behavioral_outside_home'], behavioral_df['behavioral_touch_face']],\n",
    "                        rownames=['Antiviral Meds'],\n",
    "                        colnames=['Avoidance', 'Face Mask', 'Wash Hands', 'Large Gatherings', 'Outside Home', 'Touch Face'])\n",
    "\n",
    "# Display the crosstab\n",
    "print(cross_tab)"
   ]
  },
  {
   "cell_type": "code",
   "execution_count": null,
   "metadata": {},
   "outputs": [],
   "source": []
  }
 ],
 "metadata": {
  "kernelspec": {
   "display_name": "Python 3",
   "language": "python",
   "name": "python3"
  },
  "language_info": {
   "name": "python",
   "version": "3.11.1"
  },
  "orig_nbformat": 4
 },
 "nbformat": 4,
 "nbformat_minor": 2
}
